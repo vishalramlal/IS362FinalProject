{
 "cells": [
  {
   "cell_type": "markdown",
   "id": "a49c3842",
   "metadata": {},
   "source": [
    "# IS362 Final Project\n",
    "For the Final Project, I used the dataset provided by fivethirtyeight, located here: https://github.com/fivethirtyeight/data/tree/master/thanksgiving-2015. The data comes from respondents of a poll about Thanksgiving holiday meals. It was used by fivethirtyeight in a web article entitled \"Here’s What Your Part of America Eats On Thanksgiving\"."
   ]
  },
  {
   "cell_type": "markdown",
   "id": "4d206557",
   "metadata": {},
   "source": [
    "First, the required modules are loaded:"
   ]
  },
  {
   "cell_type": "code",
   "execution_count": null,
   "id": "efec166b",
   "metadata": {
    "scrolled": true
   },
   "outputs": [],
   "source": [
    "import pandas as pd\n",
    "import seaborn as sb"
   ]
  },
  {
   "cell_type": "markdown",
   "id": "2de53920",
   "metadata": {},
   "source": [
    "Now the table data from the URL can be read. As can be seen in the resulting output of the code below, there are many \"NaN\" values in the table. It would have to be cleaned up when analyzing data."
   ]
  },
  {
   "cell_type": "code",
   "execution_count": null,
   "id": "54c9321b",
   "metadata": {},
   "outputs": [],
   "source": [
    "tdata_raw = pd.read_csv('https://raw.githubusercontent.com/fivethirtyeight/data/master/thanksgiving-2015/thanksgiving-2015-poll-data.csv')\n",
    "\n",
    "tdata_raw"
   ]
  },
  {
   "cell_type": "markdown",
   "id": "c6468766",
   "metadata": {},
   "source": [
    "The columns with Area type and U.S region are selected for this analysis. The \"NaN\" values are replaced, then subsequently dropped. The clean data can then be plotted in a chart, as seen below. Based on the data, the most Suburban and Rural area types are in the West South Central region while the most Urban area types are in the Pacific region."
   ]
  },
  {
   "cell_type": "code",
   "execution_count": null,
   "id": "dfd0f677",
   "metadata": {},
   "outputs": [],
   "source": [
    "tdata_loc = pd.read_csv('https://raw.githubusercontent.com/fivethirtyeight/data/master/thanksgiving-2015/thanksgiving-2015-poll-data.csv' ,usecols = [60,64], names = [\"Area type\", \"Region\"], skiprows = [0])\n",
    "\n",
    "tdata_loc\n",
    "\n",
    "nan_value = float(\"NaN\")\n",
    "\n",
    "tdata_loc_replace = tdata_loc.replace(\"\", nan_value)\n",
    "\n",
    "tdata_loc_clean = tdata_loc_replace.dropna()\n",
    "\n",
    "tdata_loc_clean\n",
    "\n",
    "loc_chart = sb.countplot(x = \"Region\", hue = \"Area type\", data = tdata_loc_clean)\n",
    "loc_chart.set_xticklabels(loc_chart.get_xticklabels(), rotation = 45)\n",
    "\n",
    "loc_chart"
   ]
  },
  {
   "cell_type": "markdown",
   "id": "6430868a",
   "metadata": {},
   "source": [
    "For the next analysis, the columns of respondents' age range and whether the person works in retail is used. The data is cleaned and plotted in a chart as seen below. Based on the data, the age range of most respondents who work in retail is 18 - 29."
   ]
  },
  {
   "cell_type": "code",
   "execution_count": null,
   "id": "e0c72a42",
   "metadata": {},
   "outputs": [],
   "source": [
    "tdata_ar = pd.read_csv('https://raw.githubusercontent.com/fivethirtyeight/data/master/thanksgiving-2015/thanksgiving-2015-poll-data.csv' ,usecols = [58,61], names = [\"Works in Retail\", \"Age range\"], skiprows = [0])\n",
    "\n",
    "tdata_ar\n",
    "\n",
    "nan_value = float(\"NaN\")\n",
    "\n",
    "tdata_ar_replace = tdata_ar.replace(\"\", nan_value)\n",
    "\n",
    "tdata_ar_clean = tdata_ar_replace.dropna()\n",
    "\n",
    "tdata_ar_clean\n",
    "\n",
    "sb.catplot(x = \"Age range\", hue = \"Works in Retail\", kind = \"count\", data = tdata_ar_clean)"
   ]
  },
  {
   "cell_type": "markdown",
   "id": "0cd78fcc",
   "metadata": {},
   "source": [
    "For the next analysis, the columns with respondent's gender and responses to whether the person has plans to shop on Black Friday are selected. The data is cleaned and plotted in a chart as seen below. Based on the data, most respondents of both genders do not seem to have plans to shop on Black Friday."
   ]
  },
  {
   "cell_type": "code",
   "execution_count": null,
   "id": "70367d28",
   "metadata": {},
   "outputs": [],
   "source": [
    "tdata_sh = pd.read_csv('https://raw.githubusercontent.com/fivethirtyeight/data/master/thanksgiving-2015/thanksgiving-2015-poll-data.csv' ,usecols = [57,62], names = [\"Shopping Back Friday?\", \"Gender\"], skiprows = [0])\n",
    "\n",
    "tdata_sh\n",
    "\n",
    "nan_value = float(\"NaN\")\n",
    "\n",
    "tdata_sh_replace = tdata_sh.replace(\"\", nan_value)\n",
    "\n",
    "tdata_sh_clean = tdata_sh_replace.dropna()\n",
    "\n",
    "tdata_sh_clean\n",
    "\n",
    "sb.catplot(x = \"Gender\", hue = \"Shopping Back Friday?\", kind = \"count\", data = tdata_sh_clean)\n"
   ]
  }
 ],
 "metadata": {
  "kernelspec": {
   "display_name": "Python 3",
   "language": "python",
   "name": "python3"
  },
  "language_info": {
   "codemirror_mode": {
    "name": "ipython",
    "version": 3
   },
   "file_extension": ".py",
   "mimetype": "text/x-python",
   "name": "python",
   "nbconvert_exporter": "python",
   "pygments_lexer": "ipython3",
   "version": "3.8.10"
  }
 },
 "nbformat": 4,
 "nbformat_minor": 5
}
